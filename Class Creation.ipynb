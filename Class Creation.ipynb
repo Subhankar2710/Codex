{
 "cells": [
  {
   "cell_type": "code",
   "execution_count": 31,
   "id": "4ce789b5",
   "metadata": {},
   "outputs": [],
   "source": [
    "# creating a parent class\n",
    "class summary:\n",
    "    def __init__(self,value):\n",
    "        self.value=value\n",
    "    import numpy as np\n",
    "    def mean(self):\n",
    "        return(np.mean(self.value))\n",
    "    def median(self):\n",
    "        return(np.median(self.value))\n",
    "    def minimum(self):\n",
    "        return(np.min(self.value))\n",
    "    def maximum(self):\n",
    "        return(np.max(self.value))\n",
    "    def rangeval(self):\n",
    "        val=np.max(self.value)-np.min(self.value)\n",
    "        return(val)"
   ]
  },
  {
   "cell_type": "code",
   "execution_count": 34,
   "id": "f678dce3",
   "metadata": {},
   "outputs": [
    {
     "data": {
      "text/plain": [
       "4"
      ]
     },
     "execution_count": 34,
     "metadata": {},
     "output_type": "execute_result"
    }
   ],
   "source": [
    "x=[1,2,3,4,5]\n",
    "# creating an instance\n",
    "y=summary(x)\n",
    "y.rangeval()"
   ]
  },
  {
   "cell_type": "code",
   "execution_count": 36,
   "id": "ffccc298",
   "metadata": {},
   "outputs": [],
   "source": [
    "# creating a child class\n",
    "class additional(summary):\n",
    "    def quant(self,prob=0.5):\n",
    "        return(np.quantile(self.value,prob))"
   ]
  },
  {
   "cell_type": "code",
   "execution_count": 37,
   "id": "26e5684b",
   "metadata": {},
   "outputs": [],
   "source": [
    "# creating the child instance\n",
    "z=additional(x)"
   ]
  },
  {
   "cell_type": "code",
   "execution_count": 42,
   "id": "fe791e0e",
   "metadata": {},
   "outputs": [
    {
     "data": {
      "text/plain": [
       "5"
      ]
     },
     "execution_count": 42,
     "metadata": {},
     "output_type": "execute_result"
    }
   ],
   "source": [
    "z.maximum()"
   ]
  }
 ],
 "metadata": {
  "kernelspec": {
   "display_name": "Python 3",
   "language": "python",
   "name": "python3"
  },
  "language_info": {
   "codemirror_mode": {
    "name": "ipython",
    "version": 3
   },
   "file_extension": ".py",
   "mimetype": "text/x-python",
   "name": "python",
   "nbconvert_exporter": "python",
   "pygments_lexer": "ipython3",
   "version": "3.8.8"
  }
 },
 "nbformat": 4,
 "nbformat_minor": 5
}
